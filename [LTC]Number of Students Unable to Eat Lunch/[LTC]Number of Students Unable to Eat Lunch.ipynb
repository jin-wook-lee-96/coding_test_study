{
 "cells": [
  {
   "cell_type": "code",
   "execution_count": null,
   "metadata": {},
   "outputs": [],
   "source": [
    "class Solution:\n",
    "    def countStudents(self, students: List[int], sandwiches: List[int]) -> int:\n",
    "        count = 0 \n",
    "        students = deque(students)\n",
    "        sandwiches = deque(sandwiches)\n",
    "        while count < len(students):\n",
    "            if students[0] == sandwiches[0]:\n",
    "                sandwiches.popleft()\n",
    "                count = 0\n",
    "            else:\n",
    "                students.append(students[0])\n",
    "                count += 1\n",
    "            students.popleft()\n",
    "        return len(students)\n",
    "    #end"
   ]
  }
 ],
 "metadata": {
  "kernelspec": {
   "display_name": "base",
   "language": "python",
   "name": "python3"
  },
  "language_info": {
   "codemirror_mode": {
    "name": "ipython",
    "version": 3
   },
   "file_extension": ".py",
   "mimetype": "text/x-python",
   "name": "python",
   "nbconvert_exporter": "python",
   "pygments_lexer": "ipython3",
   "version": "3.9.12"
  },
  "orig_nbformat": 4
 },
 "nbformat": 4,
 "nbformat_minor": 2
}
