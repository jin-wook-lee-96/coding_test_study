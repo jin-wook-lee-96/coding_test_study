{
 "cells": [
  {
   "cell_type": "code",
   "execution_count": 8,
   "metadata": {},
   "outputs": [],
   "source": [
    "gifts = [25, 64, 9, 4, 100]\n",
    "k = 4\n"
   ]
  },
  {
   "cell_type": "code",
   "execution_count": 10,
   "metadata": {},
   "outputs": [
    {
     "ename": "TypeError",
     "evalue": "heap argument must be a list",
     "output_type": "error",
     "traceback": [
      "\u001b[0;31m---------------------------------------------------------------------------\u001b[0m",
      "\u001b[0;31mTypeError\u001b[0m                                 Traceback (most recent call last)",
      "Cell \u001b[0;32mIn[10], line 9\u001b[0m\n\u001b[1;32m      6\u001b[0m \u001b[39m# for gifts in range(k):\u001b[39;00m\n\u001b[1;32m      7\u001b[0m \u001b[39m#     heapq.heappush(h,gifts)\u001b[39;00m\n\u001b[1;32m      8\u001b[0m \u001b[39mfor\u001b[39;00m i \u001b[39min\u001b[39;00m \u001b[39mrange\u001b[39m(k):\n\u001b[0;32m----> 9\u001b[0m     result\u001b[39m.\u001b[39mappend(math\u001b[39m.\u001b[39msqrt(heapq\u001b[39m.\u001b[39;49mheappop(gifts)))\n\u001b[1;32m     10\u001b[0m     \u001b[39mprint\u001b[39m(result)\n",
      "\u001b[0;31mTypeError\u001b[0m: heap argument must be a list"
     ]
    }
   ],
   "source": [
    "\n",
    "import math\n",
    "import heapq\n",
    "\n",
    "result = []\n",
    "h = []\n",
    "# for gifts in range(k):\n",
    "#     heapq.heappush(h,gifts)\n",
    "for i in range(k):\n",
    "    result.append(math.sqrt(heapq.heappop(gifts)))\n",
    "    print(result)"
   ]
  },
  {
   "cell_type": "code",
   "execution_count": null,
   "metadata": {},
   "outputs": [],
   "source": []
  }
 ],
 "metadata": {
  "kernelspec": {
   "display_name": "base",
   "language": "python",
   "name": "python3"
  },
  "language_info": {
   "codemirror_mode": {
    "name": "ipython",
    "version": 3
   },
   "file_extension": ".py",
   "mimetype": "text/x-python",
   "name": "python",
   "nbconvert_exporter": "python",
   "pygments_lexer": "ipython3",
   "version": "3.9.12"
  },
  "orig_nbformat": 4
 },
 "nbformat": 4,
 "nbformat_minor": 2
}
